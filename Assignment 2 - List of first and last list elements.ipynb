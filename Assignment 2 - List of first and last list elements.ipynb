{
 "cells": [
  {
   "cell_type": "code",
   "execution_count": 1,
   "metadata": {},
   "outputs": [
    {
     "data": {
      "text/plain": [
       "['python3.7',\n",
       " 'cobra',\n",
       " 3,\n",
       " 4,\n",
       " 'I am a data scientist',\n",
       " 'Are you ?',\n",
       " 4,\n",
       " 5,\n",
       " 6,\n",
       " 'python2.6',\n",
       " 'Yes I am',\n",
       " ['cobra', 3, 4],\n",
       " 7,\n",
       " 8,\n",
       " 9,\n",
       " 10]"
      ]
     },
     "execution_count": 1,
     "metadata": {},
     "output_type": "execute_result"
    }
   ],
   "source": [
    "list1 = ['python3.7','cobra', 3,4,'I am a data scientist','Are you ?',4,5,6,'python2.6','Yes I am',['cobra', 3,4],7,8,9,10]\n",
    "list1"
   ]
  },
  {
   "cell_type": "code",
   "execution_count": 2,
   "metadata": {},
   "outputs": [],
   "source": [
    "def newlist(l1):\n",
    "    newlist = []\n",
    "    newlist.append(l1[0])\n",
    "    newlist.append(l1[-1])\n",
    "    print(newlist)"
   ]
  },
  {
   "cell_type": "code",
   "execution_count": 3,
   "metadata": {},
   "outputs": [
    {
     "name": "stdout",
     "output_type": "stream",
     "text": [
      "['python3.7', 10]\n"
     ]
    }
   ],
   "source": [
    "newlist(list1)"
   ]
  }
 ],
 "metadata": {
  "kernelspec": {
   "display_name": "Python 3",
   "language": "python",
   "name": "python3"
  },
  "language_info": {
   "codemirror_mode": {
    "name": "ipython",
    "version": 3
   },
   "file_extension": ".py",
   "mimetype": "text/x-python",
   "name": "python",
   "nbconvert_exporter": "python",
   "pygments_lexer": "ipython3",
   "version": "3.7.1"
  }
 },
 "nbformat": 4,
 "nbformat_minor": 2
}
