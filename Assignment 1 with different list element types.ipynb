{
 "cells": [
  {
   "cell_type": "code",
   "execution_count": 1,
   "metadata": {},
   "outputs": [
    {
     "name": "stdout",
     "output_type": "stream",
     "text": [
      "['python3.7', 'cobra', 3, 4, 'I am a data scientist', 'Are you ?']\n"
     ]
    }
   ],
   "source": [
    "list1 = ['python3.7','cobra', 3,4,'I am a data scientist','Are you ?']\n",
    "print(list1)"
   ]
  },
  {
   "cell_type": "code",
   "execution_count": 2,
   "metadata": {},
   "outputs": [
    {
     "name": "stdout",
     "output_type": "stream",
     "text": [
      "[4, 4, 5, 6, 'python2.6', 'Yes I am', ['cobra', 3, 4], 'python3.7', 7, 8, 9, 10]\n"
     ]
    }
   ],
   "source": [
    "list2 = [4,4,5,6,'python2.6','Yes I am',['cobra', 3,4],'python3.7',7,8,9,10]\n",
    "print(list2)"
   ]
  },
  {
   "cell_type": "code",
   "execution_count": 3,
   "metadata": {},
   "outputs": [
    {
     "name": "stdout",
     "output_type": "stream",
     "text": [
      "<class 'list'>  &  <class 'list'>\n"
     ]
    }
   ],
   "source": [
    "print(type(list1),' & ',type(list2))\n"
   ]
  },
  {
   "cell_type": "code",
   "execution_count": 4,
   "metadata": {},
   "outputs": [],
   "source": [
    "def commonlist(l1,l2):\n",
    "    common_list = [value for value in l1 if value in l2] \n",
    "    return print(common_list)"
   ]
  },
  {
   "cell_type": "code",
   "execution_count": 5,
   "metadata": {},
   "outputs": [
    {
     "name": "stdout",
     "output_type": "stream",
     "text": [
      "['python3.7', 4]\n"
     ]
    }
   ],
   "source": [
    "commonlist(list1,list2)"
   ]
  }
 ],
 "metadata": {
  "kernelspec": {
   "display_name": "Python 3",
   "language": "python",
   "name": "python3"
  },
  "language_info": {
   "codemirror_mode": {
    "name": "ipython",
    "version": 3
   },
   "file_extension": ".py",
   "mimetype": "text/x-python",
   "name": "python",
   "nbconvert_exporter": "python",
   "pygments_lexer": "ipython3",
   "version": "3.7.1"
  }
 },
 "nbformat": 4,
 "nbformat_minor": 2
}
